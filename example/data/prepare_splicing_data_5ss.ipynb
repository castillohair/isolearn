{
 "cells": [
  {
   "cell_type": "code",
   "execution_count": 1,
   "metadata": {},
   "outputs": [],
   "source": [
    "import pandas as pd\n",
    "import scipy\n",
    "import numpy as np\n",
    "import scipy.sparse as sp\n",
    "import scipy.io as spio\n",
    "\n",
    "import os\n",
    "\n",
    "import isolearn.io as isoio\n"
   ]
  },
  {
   "cell_type": "code",
   "execution_count": 2,
   "metadata": {},
   "outputs": [],
   "source": [
    "data = pd.read_csv('unprocessed_data/Alt_5SS_Tag_to_Seq_Map.csv',sep=',',index_col=0)\n",
    "c = spio.loadmat('unprocessed_data/Alt_5SS_Usage_All_Cells.mat')\n",
    "\n",
    "c_MCF7 = sp.csc_matrix(c['MCF7'])\n",
    "c_CHO = sp.csc_matrix(c['CHO'])\n",
    "c_HELA = sp.csc_matrix(c['HELA'])\n",
    "c_HEK = sp.csc_matrix(c['HEK'])"
   ]
  },
  {
   "cell_type": "code",
   "execution_count": 3,
   "metadata": {},
   "outputs": [],
   "source": [
    "#Sort data on counts\n",
    "\n",
    "total_c_MCF7 = np.ravel(c_MCF7.sum(axis=-1))\n",
    "total_c_CHO = np.ravel(c_CHO.sum(axis=-1))\n",
    "total_c_HELA = np.ravel(c_HELA.sum(axis=-1))\n",
    "total_c_HEK = np.ravel(c_HEK.sum(axis=-1))\n",
    "\n",
    "avg_c = (total_c_HEK + total_c_HELA + total_c_CHO + total_c_MCF7) / 4.0\n",
    "\n",
    "sort_index = np.argsort(avg_c)\n",
    "\n",
    "data = data.iloc[sort_index].copy().reset_index(drop=True)\n",
    "c_MCF7 = c_MCF7[sort_index, :]\n",
    "c_CHO = c_CHO[sort_index, :]\n",
    "c_HELA = c_HELA[sort_index, :]\n",
    "c_HEK = c_HEK[sort_index, :]\n"
   ]
  },
  {
   "cell_type": "code",
   "execution_count": 4,
   "metadata": {},
   "outputs": [
    {
     "name": "stdout",
     "output_type": "stream",
     "text": [
      "len(up_background) = 120\n",
      "len(dn_background) = 120\n"
     ]
    }
   ],
   "source": [
    "#Constant background sequence context\n",
    "up_background = 'acggcaacatcctggggcacaagctggagtacaactacaacagccacaacgtctatatcatggccgacaagcagaagaacggcatcaaagtgaacttcaagatccgccacaacatcgagg'.upper()\n",
    "dn_background = 'acagagtttccttatttgtctctgttgccggcttatatggacaagcatatcacagccatttatcggagcgcctccgtacacgctattatcggacgcctcgcgagatcaatacgtatacca'.upper()\n",
    "\n",
    "print('len(up_background) = ' + str(len(up_background)))\n",
    "print('len(dn_background) = ' + str(len(dn_background)))\n"
   ]
  },
  {
   "cell_type": "code",
   "execution_count": 5,
   "metadata": {},
   "outputs": [
    {
     "name": "stdout",
     "output_type": "stream",
     "text": [
      "padded_c_MCF7.shape = (265137, 342)\n",
      "padded_c_CHO.shape = (265137, 342)\n",
      "padded_c_HELA.shape = (265137, 342)\n",
      "padded_c_HEK.shape = (265137, 342)\n"
     ]
    }
   ],
   "source": [
    "#Extend sequences and count matrices\n",
    "\n",
    "data['padded_sequence'] = up_background + data['Seq'].str.slice(0,101) + dn_background\n",
    "\n",
    "padded_c_MCF7, padded_c_CHO, padded_c_HELA, padded_c_HEK = [\n",
    "    sp.csr_matrix(\n",
    "        sp.hstack([\n",
    "            sp.csc_matrix((c_mat.shape[0], len(up_background))),\n",
    "            c_mat[:, :101],\n",
    "            sp.csc_matrix((c_mat.shape[0], len(dn_background))),\n",
    "            sp.csc_matrix(np.array(c_mat[:, 303].todense()).reshape(-1, 1))\n",
    "        ])\n",
    "    )\n",
    "    for c_mat in [c_MCF7, c_CHO, c_HELA, c_HEK]\n",
    "]\n",
    "\n",
    "print('padded_c_MCF7.shape = ' + str(padded_c_MCF7.shape))\n",
    "print('padded_c_CHO.shape = ' + str(padded_c_CHO.shape))\n",
    "print('padded_c_HELA.shape = ' + str(padded_c_HELA.shape))\n",
    "print('padded_c_HEK.shape = ' + str(padded_c_HEK.shape))\n"
   ]
  },
  {
   "cell_type": "code",
   "execution_count": 6,
   "metadata": {},
   "outputs": [
    {
     "name": "stdout",
     "output_type": "stream",
     "text": [
      "len(data_min_filtered) = 264647\n",
      "c_hek_min_filtered.shape = (264647, 342)\n",
      "c_hela_min_filtered.shape = (264647, 342)\n",
      "c_mcf7_min_filtered.shape = (264647, 342)\n",
      "c_cho_min_filtered.shape = (264647, 342)\n"
     ]
    }
   ],
   "source": [
    "#Get joined min dataset\n",
    "\n",
    "min_keep_index = (np.ravel(padded_c_HEK.sum(axis=-1)) > 0)\n",
    "min_keep_index = min_keep_index & (np.ravel(padded_c_HELA.sum(axis=-1)) > 0)\n",
    "min_keep_index = min_keep_index & (np.ravel(padded_c_MCF7.sum(axis=-1)) > 0)\n",
    "min_keep_index = min_keep_index & (np.ravel(padded_c_CHO.sum(axis=-1)) > 0)\n",
    "\n",
    "#MIN data\n",
    "data_min_filtered = data.iloc[min_keep_index].copy().reset_index(drop=True)\n",
    "\n",
    "c_hek_min_filtered = padded_c_HEK[min_keep_index, :]\n",
    "c_hela_min_filtered = padded_c_HELA[min_keep_index, :]\n",
    "c_mcf7_min_filtered = padded_c_MCF7[min_keep_index, :]\n",
    "c_cho_min_filtered = padded_c_CHO[min_keep_index, :]\n",
    "\n",
    "print('len(data_min_filtered) = ' + str(len(data_min_filtered)))\n",
    "\n",
    "print('c_hek_min_filtered.shape = ' + str(c_hek_min_filtered.shape))\n",
    "print('c_hela_min_filtered.shape = ' + str(c_hela_min_filtered.shape))\n",
    "print('c_mcf7_min_filtered.shape = ' + str(c_mcf7_min_filtered.shape))\n",
    "print('c_cho_min_filtered.shape = ' + str(c_cho_min_filtered.shape))\n"
   ]
  },
  {
   "cell_type": "code",
   "execution_count": 7,
   "metadata": {},
   "outputs": [],
   "source": [
    "#Dump final dataset\n",
    "\n",
    "data_min_filtered = data_min_filtered[['padded_sequence']]\n",
    "\n",
    "splicing_5ss_dict = {\n",
    "    'df' : data_min_filtered.reset_index(drop=True),\n",
    "    'hek_count' : c_hek_min_filtered,\n",
    "    'hela_count' : c_hela_min_filtered,\n",
    "    'mcf7_count' : c_mcf7_min_filtered,\n",
    "    'cho_count' : c_cho_min_filtered,\n",
    "}\n",
    "\n",
    "isoio.dump(splicing_5ss_dict, 'processed_data/splicing_5ss_data/splicing_5ss_data')\n"
   ]
  },
  {
   "cell_type": "code",
   "execution_count": 8,
   "metadata": {},
   "outputs": [],
   "source": [
    "#Dump small sample dataset\n",
    "\n",
    "splicing_5ss_dict = {\n",
    "    'df' : data_min_filtered.iloc[-10000:].copy().reset_index(drop=True),\n",
    "    'hek_count' : c_hek_min_filtered[-10000:, :],\n",
    "    'hela_count' : c_hela_min_filtered[-10000:, :],\n",
    "    'mcf7_count' : c_mcf7_min_filtered[-10000:, :],\n",
    "    'cho_count' : c_cho_min_filtered[-10000:, :],\n",
    "}\n",
    "\n",
    "isoio.dump(splicing_5ss_dict, 'processed_data/splicing_5ss_data_sample/splicing_5ss_data_sample')\n"
   ]
  },
  {
   "cell_type": "code",
   "execution_count": null,
   "metadata": {},
   "outputs": [],
   "source": []
  }
 ],
 "metadata": {
  "kernelspec": {
   "display_name": "Python [conda env:aparent]",
   "language": "python",
   "name": "conda-env-aparent-py"
  },
  "language_info": {
   "codemirror_mode": {
    "name": "ipython",
    "version": 3
   },
   "file_extension": ".py",
   "mimetype": "text/x-python",
   "name": "python",
   "nbconvert_exporter": "python",
   "pygments_lexer": "ipython3",
   "version": "3.6.8"
  }
 },
 "nbformat": 4,
 "nbformat_minor": 2
}
